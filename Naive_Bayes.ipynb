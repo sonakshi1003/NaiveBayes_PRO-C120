{
  "nbformat": 4,
  "nbformat_minor": 0,
  "metadata": {
    "colab": {
      "name": "Naive Bayes.ipynb",
      "provenance": []
    },
    "kernelspec": {
      "name": "python3",
      "display_name": "Python 3"
    },
    "language_info": {
      "name": "python"
    }
  },
  "cells": [
    {
      "cell_type": "code",
      "metadata": {
        "id": "bKbVuJE8X2eV"
      },
      "source": [
        "from sklearn import datasets\n",
        "wine=datasets.load_wine()"
      ],
      "execution_count": 1,
      "outputs": []
    },
    {
      "cell_type": "code",
      "metadata": {
        "colab": {
          "base_uri": "https://localhost:8080/"
        },
        "id": "YQCGkLimX5m2",
        "outputId": "89f53eab-e99a-4502-a0a6-7d561dc72561"
      },
      "source": [
        "print(\"Features:\", wine.feature_names)\n",
        "print(\"Labels:\", wine.target_names)"
      ],
      "execution_count": 2,
      "outputs": [
        {
          "output_type": "stream",
          "text": [
            "Features: ['alcohol', 'malic_acid', 'ash', 'alcalinity_of_ash', 'magnesium', 'total_phenols', 'flavanoids', 'nonflavanoid_phenols', 'proanthocyanins', 'color_intensity', 'hue', 'od280/od315_of_diluted_wines', 'proline']\n",
            "Labels: ['class_0' 'class_1' 'class_2']\n"
          ],
          "name": "stdout"
        }
      ]
    },
    {
      "cell_type": "code",
      "metadata": {
        "id": "JmoPl_kVYMng"
      },
      "source": [
        "from sklearn.model_selection import train_test_split\n",
        "X=wine.data\n",
        "y=wine.target\n",
        "x_train,x_test,y_train,y_test=train_test_split(X,y,test_size=0.3,random_state=109)"
      ],
      "execution_count": 6,
      "outputs": []
    },
    {
      "cell_type": "code",
      "metadata": {
        "colab": {
          "base_uri": "https://localhost:8080/"
        },
        "id": "QScAVHoeYVT4",
        "outputId": "23f0ccb8-fa57-4982-882a-c3a78fdaadec"
      },
      "source": [
        "from sklearn.naive_bayes import GaussianNB\n",
        "from sklearn.metrics import accuracy_score\n",
        "from sklearn import metrics\n",
        "model=GaussianNB()\n",
        "model.fit(x_train,y_train)\n",
        "y_pred=model.predict(x_test)\n",
        "print(\"accuracy :- \",metrics.accuracy_score(y_test,y_pred))"
      ],
      "execution_count": 5,
      "outputs": [
        {
          "output_type": "stream",
          "text": [
            "accuracy :-  0.9074074074074074\n"
          ],
          "name": "stdout"
        }
      ]
    }
  ]
}